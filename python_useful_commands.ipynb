{
 "cells": [
  {
   "cell_type": "code",
   "execution_count": 13,
   "id": "d7b5edee",
   "metadata": {
    "tags": [
     "hide_input"
    ]
   },
   "outputs": [],
   "source": [
    "#!pip install -q numpy datetime IPython \n",
    "\n",
    "import numpy as np\n",
    "\n",
    "from datetime import datetime\n",
    "from IPython.display import Markdown\n"
   ]
  },
  {
   "cell_type": "markdown",
   "id": "5b8ed170",
   "metadata": {},
   "source": [
    "# python Useful Commands  \n",
    "*Author: Jaime Abraham Castro-Mondragon*  "
   ]
  },
  {
   "cell_type": "code",
   "execution_count": 14,
   "id": "05c86323",
   "metadata": {
    "tags": [
     "hide_input"
    ]
   },
   "outputs": [
    {
     "data": {
      "text/markdown": [
       "**Last update:** 2025-08-18"
      ],
      "text/plain": [
       "<IPython.core.display.Markdown object>"
      ]
     },
     "execution_count": 14,
     "metadata": {},
     "output_type": "execute_result"
    }
   ],
   "source": [
    "Markdown(f\"**Last update:** {datetime.now():%Y-%m-%d}\")"
   ]
  },
  {
   "cell_type": "markdown",
   "id": "438b5ec6",
   "metadata": {},
   "source": [
    "In this document you will find many commands from `python`. I use these commands frequently and I think they are useful **but easy to forget**.\n",
    "\n",
    "So, to avoid searching on the `bash history` or in google, it is better to have a repository with all of them, enjoy.\n"
   ]
  },
  {
   "cell_type": "markdown",
   "id": "2a6c68a9",
   "metadata": {},
   "source": [
    "<br>\n",
    "\n",
    "## Module version\n",
    "\n",
    "<br>\n",
    "\n",
    "We can use `pip` directly from the command line."
   ]
  },
  {
   "cell_type": "code",
   "execution_count": 15,
   "id": "af8194ee",
   "metadata": {
    "vscode": {
     "languageId": "shellscript"
    }
   },
   "outputs": [
    {
     "name": "stdout",
     "output_type": "stream",
     "text": [
      "Name: DateTime\n",
      "Version: 5.5\n",
      "Summary: This package provides a DateTime data type, as known from Zope. Unless you need to communicate with Zope APIs, you're probably better off using Python's built-in datetime module.\n",
      "Home-page: https://github.com/zopefoundation/DateTime\n",
      "Author: Zope Foundation and Contributors\n",
      "Author-email: zope-dev@zope.org\n",
      "License: ZPL 2.1\n",
      "Location: /home/jaimicore/Documents/Repositories/useful_commands/.venv/lib/python3.12/site-packages\n",
      "Requires: pytz, zope.interface\n",
      "Required-by: \n"
     ]
    }
   ],
   "source": [
    "# Replace {polars} by any python package \n",
    "!pip show datetime"
   ]
  },
  {
   "cell_type": "markdown",
   "id": "e35d1413",
   "metadata": {},
   "source": [
    "<br>\n",
    "\n",
    "## `poetry` basics\n",
    "\n",
    "<br>\n",
    "\n",
    "Add, update or remove modules.\n",
    "\n",
    "\n",
    "<div style=\"background-color:#f5f5f5; padding:10px; border-radius:6px; font-family: monospace;\">\n",
    "\n",
    "\\# Add a module or a specific version or the latest version  \n",
    "poetry add python  \n",
    "poetry add python=3.8  \n",
    "poetry add python@latest  \n",
    "\n",
    "\\# Remove a module  \n",
    "poetry remove python  \n",
    "\n",
    "</div>"
   ]
  },
  {
   "cell_type": "markdown",
   "id": "3de01a82",
   "metadata": {},
   "source": [
    "<br>\n",
    "\n",
    "## Vectorize a function using `numpy`\n",
    "\n",
    "<br>\n",
    "\n",
    "Use it to vectorize a function and avoid explicit iterations."
   ]
  },
  {
   "cell_type": "code",
   "execution_count": 16,
   "id": "07a923f0",
   "metadata": {},
   "outputs": [
    {
     "name": "stdout",
     "output_type": "stream",
     "text": [
      "Counts of As: [5 2 2 1 1]\n",
      "Counts of Bs: [2 0 0 0 0]\n"
     ]
    }
   ],
   "source": [
    "# This function counts occurrences of a specific letter in a string\n",
    "def count_letter(input_string, letter, case_sensitive=True):\n",
    "    \"\"\"\n",
    "    Counts the number of a specific letter in the input string, with an option for case sensitivity.\n",
    "\n",
    "    Parameters:\n",
    "        input_string (str): The string to analyze.\n",
    "        letter (str): The letter to count.\n",
    "        case_sensitive (bool): If True, respects case. If False, ignores case.\n",
    "\n",
    "    Returns:\n",
    "        int: The count of the specified letter in the string.\n",
    "    \"\"\"\n",
    "    if not case_sensitive:\n",
    "        input_string = input_string.lower()\n",
    "        letter = letter.lower()\n",
    "    return input_string.count(letter)\n",
    "\n",
    "# Vectorize the function\n",
    "vectorized_count_letter = np.vectorize(count_letter)\n",
    "\n",
    "# Example usage\n",
    "example_strings = np.array([\"Abracadabra\", \"Alpha\", \"array\", \"Artistic\", \"awesome\"])\n",
    "\n",
    "# Call the vectorized function and count the occurrences\n",
    "As = vectorized_count_letter(example_strings,'A', case_sensitive = False)\n",
    "Bs = vectorized_count_letter(example_strings,'B', case_sensitive = False)\n",
    "\n",
    "print(f\"Counts of As: {As}\")\n",
    "print(f\"Counts of Bs: {Bs}\")"
   ]
  }
 ],
 "metadata": {
  "kernelspec": {
   "display_name": ".venv",
   "language": "python",
   "name": "python3"
  },
  "language_info": {
   "codemirror_mode": {
    "name": "ipython",
    "version": 3
   },
   "file_extension": ".py",
   "mimetype": "text/x-python",
   "name": "python",
   "nbconvert_exporter": "python",
   "pygments_lexer": "ipython3",
   "version": "3.12.3"
  }
 },
 "nbformat": 4,
 "nbformat_minor": 5
}
